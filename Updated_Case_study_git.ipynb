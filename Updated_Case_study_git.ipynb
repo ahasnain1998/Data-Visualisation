{
 "cells": [
  {
   "cell_type": "markdown",
   "id": "01d33b0f",
   "metadata": {},
   "source": [
    "# Importing the Libraries"
   ]
  },
  {
   "cell_type": "code",
   "execution_count": 1,
   "id": "475443d1",
   "metadata": {},
   "outputs": [],
   "source": [
    "import numpy as np # mathematical operations\n",
    "import pandas as pd # processing of the data\n",
    "import matplotlib.pyplot as plt # visualization of data that uses numpy and pandas"
   ]
  },
  {
   "cell_type": "markdown",
   "id": "2478c9bd",
   "metadata": {},
   "source": [
    "# Loading the Dataset"
   ]
  },
  {
   "cell_type": "code",
   "execution_count": 2,
   "id": "959f8dda",
   "metadata": {},
   "outputs": [
    {
     "data": {
      "text/html": [
       "<div>\n",
       "<style scoped>\n",
       "    .dataframe tbody tr th:only-of-type {\n",
       "        vertical-align: middle;\n",
       "    }\n",
       "\n",
       "    .dataframe tbody tr th {\n",
       "        vertical-align: top;\n",
       "    }\n",
       "\n",
       "    .dataframe thead th {\n",
       "        text-align: right;\n",
       "    }\n",
       "</style>\n",
       "<table border=\"1\" class=\"dataframe\">\n",
       "  <thead>\n",
       "    <tr style=\"text-align: right;\">\n",
       "      <th></th>\n",
       "      <th>id</th>\n",
       "      <th>date</th>\n",
       "      <th>time_recorded</th>\n",
       "      <th>source_ip</th>\n",
       "      <th>operator</th>\n",
       "      <th>test_metadata</th>\n",
       "      <th>uploaded_file</th>\n",
       "    </tr>\n",
       "  </thead>\n",
       "  <tbody>\n",
       "    <tr>\n",
       "      <th>0</th>\n",
       "      <td>1</td>\n",
       "      <td>21-10-2022</td>\n",
       "      <td>13:16</td>\n",
       "      <td>d87d:b91:be52:8ad4:bf57:a5f9:73c0:96cf</td>\n",
       "      <td>user4</td>\n",
       "      <td>NaN</td>\n",
       "      <td>Oz2z9.tsv</td>\n",
       "    </tr>\n",
       "    <tr>\n",
       "      <th>1</th>\n",
       "      <td>2</td>\n",
       "      <td>03-10-2022</td>\n",
       "      <td>7:39</td>\n",
       "      <td>186d:fecc:dc02:d7d0:c609:e6c:1d67:63e4</td>\n",
       "      <td>user1</td>\n",
       "      <td>[{},{},{}]</td>\n",
       "      <td>S5tRB.tsv</td>\n",
       "    </tr>\n",
       "    <tr>\n",
       "      <th>2</th>\n",
       "      <td>3</td>\n",
       "      <td>18-11-2022</td>\n",
       "      <td>5:35</td>\n",
       "      <td>5ef1:e7b1:710e:d737:d418:4c78:8ba2:9b22</td>\n",
       "      <td>user1</td>\n",
       "      <td>[{},{},{},{},{}]</td>\n",
       "      <td>2T6j8.xlsx</td>\n",
       "    </tr>\n",
       "    <tr>\n",
       "      <th>3</th>\n",
       "      <td>4</td>\n",
       "      <td>NaN</td>\n",
       "      <td>NaN</td>\n",
       "      <td>2e4d:a235:f05c:f4ae:9d27:cd1d:127:84d</td>\n",
       "      <td>user5</td>\n",
       "      <td>[{},{},{},{},{}]</td>\n",
       "      <td>agUx7.xls</td>\n",
       "    </tr>\n",
       "    <tr>\n",
       "      <th>4</th>\n",
       "      <td>5</td>\n",
       "      <td>02-06-2023</td>\n",
       "      <td>1:57</td>\n",
       "      <td>3642:7a16:ebd:8d06:ba8:4f5e:d24c:3259</td>\n",
       "      <td>user3</td>\n",
       "      <td>[{},{},{}]</td>\n",
       "      <td>aA0Lf.xls</td>\n",
       "    </tr>\n",
       "  </tbody>\n",
       "</table>\n",
       "</div>"
      ],
      "text/plain": [
       "   id        date time_recorded                                source_ip  \\\n",
       "0   1  21-10-2022         13:16   d87d:b91:be52:8ad4:bf57:a5f9:73c0:96cf   \n",
       "1   2  03-10-2022          7:39   186d:fecc:dc02:d7d0:c609:e6c:1d67:63e4   \n",
       "2   3  18-11-2022          5:35  5ef1:e7b1:710e:d737:d418:4c78:8ba2:9b22   \n",
       "3   4         NaN           NaN    2e4d:a235:f05c:f4ae:9d27:cd1d:127:84d   \n",
       "4   5  02-06-2023          1:57    3642:7a16:ebd:8d06:ba8:4f5e:d24c:3259   \n",
       "\n",
       "  operator     test_metadata uploaded_file  \n",
       "0    user4               NaN     Oz2z9.tsv  \n",
       "1    user1        [{},{},{}]     S5tRB.tsv  \n",
       "2    user1  [{},{},{},{},{}]    2T6j8.xlsx  \n",
       "3    user5  [{},{},{},{},{}]     agUx7.xls  \n",
       "4    user3        [{},{},{}]     aA0Lf.xls  "
      ]
     },
     "execution_count": 2,
     "metadata": {},
     "output_type": "execute_result"
    }
   ],
   "source": [
    "# Loading the Dataset\n",
    "df = pd.read_csv(\"ws_data.csv\")\n",
    "# Verifying the Dataset\n",
    "df.head()"
   ]
  },
  {
   "cell_type": "markdown",
   "id": "ea8bcc7f",
   "metadata": {},
   "source": [
    "# Printing the columns of the Dataset"
   ]
  },
  {
   "cell_type": "code",
   "execution_count": 3,
   "id": "f3037398",
   "metadata": {},
   "outputs": [
    {
     "data": {
      "text/plain": [
       "Index(['id', 'date', 'time_recorded', 'source_ip', 'operator', 'test_metadata',\n",
       "       'uploaded_file'],\n",
       "      dtype='object')"
      ]
     },
     "execution_count": 3,
     "metadata": {},
     "output_type": "execute_result"
    }
   ],
   "source": [
    "# Task 1: \n",
    "df.columns # Printing Column Headings"
   ]
  },
  {
   "cell_type": "markdown",
   "id": "bba3b6b4",
   "metadata": {},
   "source": [
    "# Adding a new column"
   ]
  },
  {
   "cell_type": "code",
   "execution_count": 4,
   "id": "ea1f62d3",
   "metadata": {},
   "outputs": [
    {
     "data": {
      "text/html": [
       "<div>\n",
       "<style scoped>\n",
       "    .dataframe tbody tr th:only-of-type {\n",
       "        vertical-align: middle;\n",
       "    }\n",
       "\n",
       "    .dataframe tbody tr th {\n",
       "        vertical-align: top;\n",
       "    }\n",
       "\n",
       "    .dataframe thead th {\n",
       "        text-align: right;\n",
       "    }\n",
       "</style>\n",
       "<table border=\"1\" class=\"dataframe\">\n",
       "  <thead>\n",
       "    <tr style=\"text-align: right;\">\n",
       "      <th></th>\n",
       "      <th>id</th>\n",
       "      <th>date</th>\n",
       "      <th>time_recorded</th>\n",
       "      <th>source_ip</th>\n",
       "      <th>operator</th>\n",
       "      <th>test_metadata</th>\n",
       "      <th>uploaded_file</th>\n",
       "      <th>new_col</th>\n",
       "    </tr>\n",
       "  </thead>\n",
       "  <tbody>\n",
       "    <tr>\n",
       "      <th>0</th>\n",
       "      <td>1</td>\n",
       "      <td>21-10-2022</td>\n",
       "      <td>13:16</td>\n",
       "      <td>d87d:b91:be52:8ad4:bf57:a5f9:73c0:96cf</td>\n",
       "      <td>user4</td>\n",
       "      <td>NaN</td>\n",
       "      <td>Oz2z9.tsv</td>\n",
       "      <td>d87d:b91:be52:8ad4:bf57:a5f9:73c0:96cf-user4/O...</td>\n",
       "    </tr>\n",
       "    <tr>\n",
       "      <th>1</th>\n",
       "      <td>2</td>\n",
       "      <td>03-10-2022</td>\n",
       "      <td>7:39</td>\n",
       "      <td>186d:fecc:dc02:d7d0:c609:e6c:1d67:63e4</td>\n",
       "      <td>user1</td>\n",
       "      <td>[{},{},{}]</td>\n",
       "      <td>S5tRB.tsv</td>\n",
       "      <td>186d:fecc:dc02:d7d0:c609:e6c:1d67:63e4-user1/S...</td>\n",
       "    </tr>\n",
       "    <tr>\n",
       "      <th>2</th>\n",
       "      <td>3</td>\n",
       "      <td>18-11-2022</td>\n",
       "      <td>5:35</td>\n",
       "      <td>5ef1:e7b1:710e:d737:d418:4c78:8ba2:9b22</td>\n",
       "      <td>user1</td>\n",
       "      <td>[{},{},{},{},{}]</td>\n",
       "      <td>2T6j8.xlsx</td>\n",
       "      <td>5ef1:e7b1:710e:d737:d418:4c78:8ba2:9b22-user1/...</td>\n",
       "    </tr>\n",
       "    <tr>\n",
       "      <th>3</th>\n",
       "      <td>4</td>\n",
       "      <td>NaN</td>\n",
       "      <td>NaN</td>\n",
       "      <td>2e4d:a235:f05c:f4ae:9d27:cd1d:127:84d</td>\n",
       "      <td>user5</td>\n",
       "      <td>[{},{},{},{},{}]</td>\n",
       "      <td>agUx7.xls</td>\n",
       "      <td>2e4d:a235:f05c:f4ae:9d27:cd1d:127:84d-user5/ag...</td>\n",
       "    </tr>\n",
       "    <tr>\n",
       "      <th>4</th>\n",
       "      <td>5</td>\n",
       "      <td>02-06-2023</td>\n",
       "      <td>1:57</td>\n",
       "      <td>3642:7a16:ebd:8d06:ba8:4f5e:d24c:3259</td>\n",
       "      <td>user3</td>\n",
       "      <td>[{},{},{}]</td>\n",
       "      <td>aA0Lf.xls</td>\n",
       "      <td>3642:7a16:ebd:8d06:ba8:4f5e:d24c:3259-user3/aA...</td>\n",
       "    </tr>\n",
       "    <tr>\n",
       "      <th>...</th>\n",
       "      <td>...</td>\n",
       "      <td>...</td>\n",
       "      <td>...</td>\n",
       "      <td>...</td>\n",
       "      <td>...</td>\n",
       "      <td>...</td>\n",
       "      <td>...</td>\n",
       "      <td>...</td>\n",
       "    </tr>\n",
       "    <tr>\n",
       "      <th>995</th>\n",
       "      <td>996</td>\n",
       "      <td>11-09-2022</td>\n",
       "      <td>22:28</td>\n",
       "      <td>8f31:61ec:d1cc:210a:e5ed:995a:7aae:8b5b</td>\n",
       "      <td>user4</td>\n",
       "      <td>[{},{},{}]</td>\n",
       "      <td>7w4UK.xls</td>\n",
       "      <td>8f31:61ec:d1cc:210a:e5ed:995a:7aae:8b5b-user4/...</td>\n",
       "    </tr>\n",
       "    <tr>\n",
       "      <th>996</th>\n",
       "      <td>997</td>\n",
       "      <td>21-01-2023</td>\n",
       "      <td>22:15</td>\n",
       "      <td>bdb6:843a:9f08:2e81:8a5c:e3c8:20d9:c980</td>\n",
       "      <td>user3</td>\n",
       "      <td>[{},{},{},{},{}]</td>\n",
       "      <td>cU7kJ.tsv</td>\n",
       "      <td>bdb6:843a:9f08:2e81:8a5c:e3c8:20d9:c980-user3/...</td>\n",
       "    </tr>\n",
       "    <tr>\n",
       "      <th>997</th>\n",
       "      <td>998</td>\n",
       "      <td>22-12-2022</td>\n",
       "      <td>0:38</td>\n",
       "      <td>3b2a:ab9b:4178:6409:49e9:7824:4d6a:a68a</td>\n",
       "      <td>user3</td>\n",
       "      <td>[{},{},{},{},{}]</td>\n",
       "      <td>gv40f.tsv</td>\n",
       "      <td>3b2a:ab9b:4178:6409:49e9:7824:4d6a:a68a-user3/...</td>\n",
       "    </tr>\n",
       "    <tr>\n",
       "      <th>998</th>\n",
       "      <td>999</td>\n",
       "      <td>02-04-2023</td>\n",
       "      <td>0:27</td>\n",
       "      <td>1a22:bed0:4ee6:189d:9335:690a:eed:b850</td>\n",
       "      <td>user3</td>\n",
       "      <td>[{},{},{}]</td>\n",
       "      <td>7682u.csv</td>\n",
       "      <td>1a22:bed0:4ee6:189d:9335:690a:eed:b850-user3/7...</td>\n",
       "    </tr>\n",
       "    <tr>\n",
       "      <th>999</th>\n",
       "      <td>1000</td>\n",
       "      <td>22-12-2022</td>\n",
       "      <td>19:18</td>\n",
       "      <td>867e:c62a:fac5:675c:ac79:2382:9aa5:97e3</td>\n",
       "      <td>user1</td>\n",
       "      <td>[{},{},{},{}]</td>\n",
       "      <td>90frm.csv</td>\n",
       "      <td>867e:c62a:fac5:675c:ac79:2382:9aa5:97e3-user1/...</td>\n",
       "    </tr>\n",
       "  </tbody>\n",
       "</table>\n",
       "<p>1000 rows × 8 columns</p>\n",
       "</div>"
      ],
      "text/plain": [
       "       id        date time_recorded                                source_ip  \\\n",
       "0       1  21-10-2022         13:16   d87d:b91:be52:8ad4:bf57:a5f9:73c0:96cf   \n",
       "1       2  03-10-2022          7:39   186d:fecc:dc02:d7d0:c609:e6c:1d67:63e4   \n",
       "2       3  18-11-2022          5:35  5ef1:e7b1:710e:d737:d418:4c78:8ba2:9b22   \n",
       "3       4         NaN           NaN    2e4d:a235:f05c:f4ae:9d27:cd1d:127:84d   \n",
       "4       5  02-06-2023          1:57    3642:7a16:ebd:8d06:ba8:4f5e:d24c:3259   \n",
       "..    ...         ...           ...                                      ...   \n",
       "995   996  11-09-2022         22:28  8f31:61ec:d1cc:210a:e5ed:995a:7aae:8b5b   \n",
       "996   997  21-01-2023         22:15  bdb6:843a:9f08:2e81:8a5c:e3c8:20d9:c980   \n",
       "997   998  22-12-2022          0:38  3b2a:ab9b:4178:6409:49e9:7824:4d6a:a68a   \n",
       "998   999  02-04-2023          0:27   1a22:bed0:4ee6:189d:9335:690a:eed:b850   \n",
       "999  1000  22-12-2022         19:18  867e:c62a:fac5:675c:ac79:2382:9aa5:97e3   \n",
       "\n",
       "    operator     test_metadata uploaded_file  \\\n",
       "0      user4               NaN     Oz2z9.tsv   \n",
       "1      user1        [{},{},{}]     S5tRB.tsv   \n",
       "2      user1  [{},{},{},{},{}]    2T6j8.xlsx   \n",
       "3      user5  [{},{},{},{},{}]     agUx7.xls   \n",
       "4      user3        [{},{},{}]     aA0Lf.xls   \n",
       "..       ...               ...           ...   \n",
       "995    user4        [{},{},{}]     7w4UK.xls   \n",
       "996    user3  [{},{},{},{},{}]     cU7kJ.tsv   \n",
       "997    user3  [{},{},{},{},{}]     gv40f.tsv   \n",
       "998    user3        [{},{},{}]     7682u.csv   \n",
       "999    user1     [{},{},{},{}]     90frm.csv   \n",
       "\n",
       "                                               new_col  \n",
       "0    d87d:b91:be52:8ad4:bf57:a5f9:73c0:96cf-user4/O...  \n",
       "1    186d:fecc:dc02:d7d0:c609:e6c:1d67:63e4-user1/S...  \n",
       "2    5ef1:e7b1:710e:d737:d418:4c78:8ba2:9b22-user1/...  \n",
       "3    2e4d:a235:f05c:f4ae:9d27:cd1d:127:84d-user5/ag...  \n",
       "4    3642:7a16:ebd:8d06:ba8:4f5e:d24c:3259-user3/aA...  \n",
       "..                                                 ...  \n",
       "995  8f31:61ec:d1cc:210a:e5ed:995a:7aae:8b5b-user4/...  \n",
       "996  bdb6:843a:9f08:2e81:8a5c:e3c8:20d9:c980-user3/...  \n",
       "997  3b2a:ab9b:4178:6409:49e9:7824:4d6a:a68a-user3/...  \n",
       "998  1a22:bed0:4ee6:189d:9335:690a:eed:b850-user3/7...  \n",
       "999  867e:c62a:fac5:675c:ac79:2382:9aa5:97e3-user1/...  \n",
       "\n",
       "[1000 rows x 8 columns]"
      ]
     },
     "execution_count": 4,
     "metadata": {},
     "output_type": "execute_result"
    }
   ],
   "source": [
    "#Task 2\n",
    "df['new_col'] = df['source_ip'] + '-' + df['operator'] + '/' + df['uploaded_file'] \n",
    "df"
   ]
  },
  {
   "cell_type": "markdown",
   "id": "44cde19f",
   "metadata": {},
   "source": [
    "# Plotting Rate of Uploads over Time"
   ]
  },
  {
   "cell_type": "code",
   "execution_count": 12,
   "id": "7251c429",
   "metadata": {},
   "outputs": [],
   "source": [
    "#Task 3\n",
    "# Converting the Date column to Datetime Format\n",
    "df['date'] = pd.to_datetime(df['date'])\n",
    "# Creating a new column\n",
    "df['month_year'] = df['date'].dt.to_period('M')\n",
    "# Calculating the monthly_counts with respect to its index\n",
    "months = df['month_year'].value_counts().sort_index()\n",
    "months = months.reset_index()\n",
    "months.columns = ['Month-Year', 'Count']\n",
    "months = months.sort_values(by='Month-Year')"
   ]
  },
  {
   "cell_type": "code",
   "execution_count": 13,
   "id": "ac555934",
   "metadata": {},
   "outputs": [
    {
     "data": {
      "image/png": "[encoded data removed]",
      "text/plain": [
       "<Figure size 720x432 with 1 Axes>"
      ]
     },
     "metadata": {
      "needs_background": "light"
     },
     "output_type": "display_data"
    }
   ],
   "source": [
    "# Converting the month column to Datetime object\n",
    "months['Month-Year'] = months['Month-Year'].dt.to_timestamp()\n",
    "months = months.sort_values(by='Month-Year')\n",
    "# Plotting a line Graph\n",
    "plt.figure(figsize=(10, 6))\n",
    "plt.plot(months['Month-Year'], months['Count'], marker = 'x', linestyle='-')\n",
    "plt.xlabel('Date')\n",
    "plt.ylabel('Frequency')\n",
    "plt.title('Time Series of Records')\n",
    "\n",
    "plt.show()"
   ]
  },
  {
   "cell_type": "markdown",
   "id": "9dac4460",
   "metadata": {},
   "source": [
    "# Plotting a histogram"
   ]
  },
  {
   "cell_type": "code",
   "execution_count": 7,
   "id": "75cecf6b",
   "metadata": {},
   "outputs": [
    {
     "data": {
      "image/png": "[encoded data removed]",
      "text/plain": [
       "<Figure size 720x432 with 1 Axes>"
      ]
     },
     "metadata": {
      "needs_background": "light"
     },
     "output_type": "display_data"
    }
   ],
   "source": [
    "#Task 4\n",
    "# Splitting the file with . str\n",
    "df['file_extension'] = df['uploaded_file'].str.split('.').str[-1]\n",
    "\n",
    "# Plot a histogram\n",
    "plt.figure(figsize=(10, 6))\n",
    "plt.hist(df['file_extension'], bins=10, color='blue', alpha=0.7)\n",
    "plt.xlabel('File Extension')\n",
    "plt.ylabel('Frequency')\n",
    "plt.title('Distribution of Uploads by File Extension')\n",
    "plt.show()"
   ]
  },
  {
   "cell_type": "markdown",
   "id": "e6837136",
   "metadata": {},
   "source": [
    "# Giving names to the Users"
   ]
  },
  {
   "cell_type": "code",
   "execution_count": 8,
   "id": "31b25422",
   "metadata": {},
   "outputs": [
    {
     "data": {
      "image/png": "[encoded data removed]",
      "text/plain": [
       "<Figure size 432x288 with 1 Axes>"
      ]
     },
     "metadata": {
      "needs_background": "light"
     },
     "output_type": "display_data"
    }
   ],
   "source": [
    "#Task 5\n",
    "# Creating a dictionary and giving the values to the keys and mapping it\n",
    "user_name = {\n",
    "    \"user1\": \"Angus Young\",\n",
    "    \"user4\": \"Larry Van Kriedt\",\n",
    "    \"user2\": \"Malcolm Young\",\n",
    "    \"user3\": \"Dave Evans\",\n",
    "    \"user5\": \"Colin Burgess\",\n",
    "\n",
    "}\n",
    "\n",
    "df['operator_real_name'] = df['operator'].map(user_name)\n",
    "\n",
    "#Plotting a histogram\n",
    "plt.hist(df['operator_real_name'], bins=10, color='red', alpha=0.7)\n",
    "plt.xlabel('User')\n",
    "plt.ylabel('Uploads')\n",
    "plt.title('Number of Uploads Per User')\n",
    "plt.show()"
   ]
  },
  {
   "cell_type": "markdown",
   "id": "459c76f3",
   "metadata": {},
   "source": [
    "# Converting the Datetime Format"
   ]
  },
  {
   "cell_type": "code",
   "execution_count": 9,
   "id": "beea7bc8",
   "metadata": {},
   "outputs": [
    {
     "name": "stdout",
     "output_type": "stream",
     "text": [
      "Input:  10 April 2000\n",
      "Datetime format:  2000-04-10 00:00:00\n",
      "Preferred format:  04-2000\n"
     ]
    }
   ],
   "source": [
    "input = '10 April 2000'\n",
    "print(\"Input: \", input)\n",
    " \n",
    "x = pd.to_datetime(input)\n",
    "print(\"Datetime format: \", x)\n",
    " \n",
    "y = x.strftime(\"%m-%Y\")\n",
    "print(\"Preferred format: \", y)"
   ]
  },
  {
   "cell_type": "code",
   "execution_count": 11,
   "id": "28b5caae",
   "metadata": {},
   "outputs": [
    {
     "data": {
      "text/plain": [
       "'Friday'"
      ]
     },
     "execution_count": 11,
     "metadata": {},
     "output_type": "execute_result"
    }
   ],
   "source": [
    "# Checking the day from the date column\n",
    "df.loc[2, \"date\"].day_name()\n"
   ]
  },
  {
   "cell_type": "code",
   "execution_count": null,
   "id": "59f8012d",
   "metadata": {},
   "outputs": [],
   "source": []
  }
 ],
 "metadata": {
  "kernelspec": {
   "display_name": "Python 3 (ipykernel)",
   "language": "python",
   "name": "python3"
  },
  "language_info": {
   "codemirror_mode": {
    "name": "ipython",
    "version": 3
   },
   "file_extension": ".py",
   "mimetype": "text/x-python",
   "name": "python",
   "nbconvert_exporter": "python",
   "pygments_lexer": "ipython3",
   "version": "3.9.12"
  }
 },
 "nbformat": 4,
 "nbformat_minor": 5
}
